{
 "cells": [
  {
   "cell_type": "code",
   "execution_count": 37,
   "id": "669589e3",
   "metadata": {
    "ExecuteTime": {
     "end_time": "2021-06-24T02:42:25.024752Z",
     "start_time": "2021-06-24T02:42:24.911660Z"
    }
   },
   "outputs": [],
   "source": [
    "import requests\n",
    "import os\n",
    "import wget\n",
    "from time import time\n",
    "from multiprocessing.pool import ThreadPool\n",
    "\n",
    "from bs4 import BeautifulSoup"
   ]
  },
  {
   "cell_type": "code",
   "execution_count": 38,
   "id": "93ded241",
   "metadata": {
    "ExecuteTime": {
     "end_time": "2021-06-24T02:52:47.341581Z",
     "start_time": "2021-06-24T02:52:45.176961Z"
    }
   },
   "outputs": [
    {
     "name": "stdout",
     "output_type": "stream",
     "text": [
      "Directory /mnt/c/Users/latif/Documents/GitHub/web-scraping/web-scraping-pdf-links/Tubing Products | O'Brien created\n"
     ]
    }
   ],
   "source": [
    "# website to scrap\n",
    "# url = \"https://www.obcorp.com/literature/installation-instructions\"\n",
    "url = \"https://www.obcorp.com/literature/tubingproducts\"\n",
    "  \n",
    "# get the url from requests get method\n",
    "read = requests.get(url)\n",
    "  \n",
    "# full html content \n",
    "html_content = read.content\n",
    "  \n",
    "# Parse the html content \n",
    "soup = BeautifulSoup(html_content, \"html.parser\")\n",
    "\n",
    "# Create folder\n",
    "folder_name = soup.title.text.strip()\n",
    "path = os.path.join(os.getcwd(), folder_name)\n",
    "\n",
    "try:\n",
    "    os.mkdir(path)\n",
    "    print(f\"Directory {path} created\")\n",
    "except OSError as error:\n",
    "    print(error) "
   ]
  },
  {
   "cell_type": "code",
   "execution_count": 78,
   "id": "6ae47cae-a82f-4cb6-b9e1-ea36aa67c6e0",
   "metadata": {
    "ExecuteTime": {
     "end_time": "2021-06-24T03:22:21.870733Z",
     "start_time": "2021-06-24T03:22:21.836934Z"
    }
   },
   "outputs": [],
   "source": [
    "# created an empty list for putting the pdfs \n",
    "list_of_pdf = dict()\n",
    "  \n",
    "# accessed the first div with child_tablist class tag in the html \n",
    "l = soup.find_all('div', class_='child_tablist') \n",
    "\n",
    "for l1 in l:\n",
    "    for l2 in l1.find_all('a'):\n",
    "        # converting\n",
    "        pdf_link = 'https://www.obcorp.com' + l2.get('href')\n",
    "        # added all the pdf links to set\n",
    "        list_of_pdf[pdf_link.split('/')[-1].split('?')[0]] = pdf_link\n",
    "        \n",
    "list_of_pdf = [(index, value) for index, value in list_of_pdf.items()]\n",
    "        \n",
    "def download_file(url, _path):\n",
    "    filename, fileurl = url\n",
    "    try:\n",
    "        wget.download(fileurl, out=path + '/' + filename)\n",
    "        print(f'{filename} saved.')\n",
    "    except Exception as e:\n",
    "        print(f'{filename} produce error {e}')"
   ]
  },
  {
   "cell_type": "code",
   "execution_count": 79,
   "id": "d34cbe08-2401-4382-8058-66d079f85ba6",
   "metadata": {},
   "outputs": [
    {
     "name": "stdout",
     "output_type": "stream",
     "text": [
      "qlt-tpkits.pdf saved.\n",
      "qlt-stocktubing-flr.pdf saved.\n",
      "qlt-tpksk-10h.pdf saved.\n",
      "qlt-obabr-02.pdf saved.\n",
      "qlt-tpcost.pdf saved.\n",
      "qlt-hgpak.pdf saved.\n",
      "qlt-probesupport.pdf saved.\n",
      "qlt-powerbr-03-spreads.pdf saved.\n",
      "c25-100-atex.pdf saved.\n",
      "qlt-tempsensors-a4.pdf saved.\n",
      "qlt-bestpract.pdf saved.\n",
      "qlt-oba-valadd.pdf saved.\n",
      "qlt-tpksk-srt-10.pdf saved.\n",
      "qlt-ob-acc.pdf saved.\n",
      "qlt-ttepspec.pdf saved.\n",
      "qlt-powerbr-03.pdf saved.\n",
      "qlt-cappak-flyr.pdf saved.\n",
      "qlt-cappak-flyr-a4.pdf saved.\n",
      "clt-coil-solar-03.pdf saved.\n",
      "qlt-bulkstubing.pdf saved.\n",
      "qlt-oba-valadd-a4.pdf saved.\n",
      "qlt-mj-planning.pdf saved.\n",
      "qlt-mj-accessories.pdf saved.\n",
      "xtv-ds.pdf saved.\n",
      "qlt-mj-sample-spec.pdf saved.\n",
      "qlt-mj-onshore.pdf saved.\n",
      "qlt-truetube-a4.pdf saved.\n",
      "qlt-tubebenders.pdf saved.\n",
      "qlt-jackcolor.pdf saved.\n",
      "u0002-cemsbr.pdf saved.\n",
      "qlt-bulkstubing-a4.pdf saved.\n",
      "qlt-oba-bestp.pdf saved.\n",
      "vpl_ds.pdf saved.\n",
      "xtv_atex.pdf saved.\n",
      "qlt-ob-jacket.pdf saved.\n",
      "qlt-oba-fluoro.pdf saved.\n",
      "qlt-spool-stand-instructions.pdf saved.\n",
      "qlt-jline.pdf saved.\n",
      "qlt-oba-tubesel.pdf saved.\n",
      "qlt-bestpractices-a4.pdf saved.\n",
      "vpl_atex.pdf saved.\n",
      "e-100-a_ds.pdf saved.\n",
      "qlt-accessories-a4.pdf saved.\n",
      "qlt-oba-seamwld.pdf saved.\n",
      "s-150_atex.pdf saved.\n",
      "btv_atex.pdf saved.\n",
      "e-06_e-19_atex.pdf saved.\n",
      "qlt-oba-jacket.pdf saved.\n",
      "t-100_ds.pdf saved.\n",
      "qlt-sbcc.pdf saved.\n",
      "qlt-oba-tracer.pdf saved.\n",
      "ex-02_pd.pdf saved.\n",
      "qlt_sensortube.pdf saved.\n",
      "e-150_ds.pdf saved.\n",
      "c25-21_atex.pdf saved.\n",
      "qlt-skxmodel-a4.pdf saved.\n",
      "qlt-cappak-hto.pdf saved.\n",
      "qlt-mj.pdf saved.\n",
      "e-100-e_atex.pdf saved.\n",
      "ob-dat-stackpak-20r2.pdf saved.\n",
      "qlt-oba-tubes.pdf saved.\n",
      "qlt-txmodel-a4-lr.pdf saved.\n",
      "t-100_atex.pdf saved.\n",
      "qlt-cappak-hto-a4.pdf saved.\n",
      "qlt-oba-skxmod.pdf saved.\n",
      "btv_ds.pdf saved.\n",
      "qlt-stocktubing.pdf saved.\n",
      "qlt-tpkhs-inst.pdf saved.\n",
      "stackpakrequest.pdf saved.\n",
      "ob-dat-1038.pdf produce error HTTP Error 404: Not Found\n",
      "ex-03_ins.pdf saved.\n",
      "qlt-oba-txmod.pdf saved.\n",
      "qlt-10170-inst.pdf saved.\n",
      "qlt-t9g90-uc.pdf saved.\n",
      "raystat-ex-03_pd.pdf saved.\n",
      "qlt-tpspec.pdf saved.\n",
      "c25-21inst.pdf saved.\n",
      "qlt-heatshrinkspec.pdf saved.\n",
      "qlt-tpc1-inst.pdf saved.\n",
      "c75-100-ainst.pdf saved.\n",
      "qlt-obibr-02.pdf saved.\n",
      "raystat-ex-04_pd.pdf saved.\n",
      "qlt-tpinst.pdf saved.\n",
      "qlt-hightemp-inst-1e.pdf saved.\n",
      "qlt-mj-toolbox.pdf saved.\n",
      "qlt-tpkhs-e1htk-s150htk-inst.pdf saved.\n",
      "t-100_ins.pdf saved.\n",
      "qlt-tpkinst-entry-seal.pdf saved.\n",
      "qlt-slinetps-inst.pdf saved.\n",
      "qlt-tpksk-srt-10-inst.pdf saved.\n",
      "qlt-tpksk-test.pdf saved.\n",
      "qlt-stackinst.pdf saved.\n",
      "qlt-hightemp-inst-1n.pdf saved.\n",
      "qlt-tpmjtst12-instr.pdf saved.\n",
      "qlt-hightemp-inst-2n.pdf saved.\n",
      "qlt-jktr.pdf saved.\n",
      "qlt-mj-hdbender-inst.pdf saved.\n",
      "c25-100-inst-multi-langpdf.pdf saved.\n",
      "Time to download: 41.45573306083679s\n"
     ]
    }
   ],
   "source": [
    "start = time()\n",
    "\n",
    "# parallel bulk download\n",
    "pool = ThreadPool(10)\n",
    "pool.starmap(download_file, map(lambda x: (x, path), list_of_pdf))\n",
    "pool.close() \n",
    "pool.join()\n",
    "\n",
    "print(f\"Time to download: {time() - start}s\")"
   ]
  },
  {
   "cell_type": "code",
   "execution_count": 81,
   "id": "f1baeb15-1346-4f6d-9eca-bb5d945a1019",
   "metadata": {},
   "outputs": [
    {
     "data": {
      "text/plain": [
       "'https://www.obcorp.com/-/media/ametekobrien/documents/literature/data-sheets/ob-dat-1038.pdf?la=en&revision=0d8e3bc8-df7d-4aa9-a500-35e2ea888c52'"
      ]
     },
     "execution_count": 81,
     "metadata": {},
     "output_type": "execute_result"
    }
   ],
   "source": [
    "dict(list_of_pdf)['ob-dat-1038.pdf']"
   ]
  },
  {
   "cell_type": "code",
   "execution_count": 77,
   "id": "a401139b-abbb-4218-a3cb-c2ac767e28d8",
   "metadata": {
    "ExecuteTime": {
     "end_time": "2021-06-24T03:22:21.870733Z",
     "start_time": "2021-06-24T03:22:21.836934Z"
    }
   },
   "outputs": [],
   "source": [
    "# serial download, not recommended, took so long\n",
    "\n",
    "for file_name, file_url in list_of_pdf.items():\n",
    "    wget.download(file_url, out=path + '/' + file_name)"
   ]
  }
 ],
 "metadata": {
  "kernelspec": {
   "display_name": "Python 3",
   "language": "python",
   "name": "python3"
  },
  "language_info": {
   "codemirror_mode": {
    "name": "ipython",
    "version": 3
   },
   "file_extension": ".py",
   "mimetype": "text/x-python",
   "name": "python",
   "nbconvert_exporter": "python",
   "pygments_lexer": "ipython3",
   "version": "3.8.10"
  },
  "toc": {
   "base_numbering": 1,
   "nav_menu": {},
   "number_sections": true,
   "sideBar": true,
   "skip_h1_title": false,
   "title_cell": "Table of Contents",
   "title_sidebar": "Contents",
   "toc_cell": false,
   "toc_position": {},
   "toc_section_display": true,
   "toc_window_display": false
  },
  "varInspector": {
   "cols": {
    "lenName": 16,
    "lenType": 16,
    "lenVar": 40
   },
   "kernels_config": {
    "python": {
     "delete_cmd_postfix": "",
     "delete_cmd_prefix": "del ",
     "library": "var_list.py",
     "varRefreshCmd": "print(var_dic_list())"
    },
    "r": {
     "delete_cmd_postfix": ") ",
     "delete_cmd_prefix": "rm(",
     "library": "var_list.r",
     "varRefreshCmd": "cat(var_dic_list()) "
    }
   },
   "types_to_exclude": [
    "module",
    "function",
    "builtin_function_or_method",
    "instance",
    "_Feature"
   ],
   "window_display": false
  }
 },
 "nbformat": 4,
 "nbformat_minor": 5
}
